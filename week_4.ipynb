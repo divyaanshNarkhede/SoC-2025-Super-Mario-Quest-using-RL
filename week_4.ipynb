{
 "cells": [
  {
   "cell_type": "code",
   "execution_count": 6,
   "id": "dd637e63",
   "metadata": {},
   "outputs": [],
   "source": [
    "import gym_super_mario_bros\n",
    "from gym_super_mario_bros.actions import RIGHT_ONLY, SIMPLE_MOVEMENT, COMPLEX_MOVEMENT\n",
    "from nes_py.wrappers import JoypadSpace\n",
    "from IPython.display import clear_output\n"
   ]
  },
  {
   "cell_type": "code",
   "execution_count": 7,
   "id": "94ff1504",
   "metadata": {},
   "outputs": [],
   "source": [
    "env = gym_super_mario_bros.make('SuperMarioBros-1-1-v0')\n",
    "env = JoypadSpace(env, COMPLEX_MOVEMENT)\n"
   ]
  },
  {
   "cell_type": "code",
   "execution_count": 8,
   "id": "343f9987",
   "metadata": {},
   "outputs": [
    {
     "name": "stdout",
     "output_type": "stream",
     "text": [
      "{'coins': 1, 'flag_get': False, 'life': 2, 'score': 300, 'stage': 1, 'status': 'small', 'time': 0, 'world': 1, 'x_pos': 425, 'y_pos': 102, 'TimeLimit.truncated': False}\n",
      "(240, 256, 3)\n"
     ]
    }
   ],
   "source": [
    "state = env.reset()\n",
    "done = False\n",
    "\n",
    "while not done:\n",
    "    env.render()  # Shows the game screen\n",
    "    action = env.action_space.sample()  # Random action\n",
    "    state, reward, done, info = env.step(action)\n",
    "    clear_output(wait=True)\n",
    "    print(info)\n",
    "    print(state.shape)\n",
    "\n",
    "env.close()\n"
   ]
  }
 ],
 "metadata": {
  "kernelspec": {
   "display_name": "mario",
   "language": "python",
   "name": "python3"
  },
  "language_info": {
   "codemirror_mode": {
    "name": "ipython",
    "version": 3
   },
   "file_extension": ".py",
   "mimetype": "text/x-python",
   "name": "python",
   "nbconvert_exporter": "python",
   "pygments_lexer": "ipython3",
   "version": "3.8.20"
  }
 },
 "nbformat": 4,
 "nbformat_minor": 5
}
